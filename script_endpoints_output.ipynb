{"cmd": "GET /languages"}, 

{
    "dictionary": {
        "af": {
            "dir": "ltr",
            "name": "Afrikaans",
            "nativeName": "Afrikaans",
            "translations": [
                {
                    "code": "en",
                    "dir": "ltr",
                    "name": "English",
                    "nativeName": "English"
                }
            ]
        },
        "ar": {
            "dir": "rtl",
            "name": "Arabic",
            "nativeName": "العربية",
            "translations": [
                {
                    "code": "en",
                    "dir": "ltr",
                    "name": "English",
                    "nativeName": "English"
                }
            ]
        },
        "bg": {
            "dir": "ltr",
            "name": "Bulgarian",
            "nativeName": "Български",
            "translations": [
                {
                    "code": "en",
                    "dir": "ltr",
                    "name": "English",
                    "nativeName": "English"
                }
            ]
        },
        "bn": {
            "dir": "ltr",
            "name": "Bangla",
            "nativeName": "বাংলা",
            "translations": [
                {
                    "code": "en",
                    "dir": "ltr",
                    "name": "English",
                    "nativeName": "English"
                }
            ]
        },
        "bs": {
            "dir": "ltr",
            "name": "Bosnian",
            "nativeName": "Bosanski",
            "translations": [
                {
                    "code": "en",
                    "dir": "ltr",
                    "name": "English",
                    "nativeName": "English"
                }
            ]
        },
        "ca": {
            "dir": "ltr",
            "name": "Catalan",
            "nativeName": "Català",
            "translations": [
                {
                    "code": "en",
                    "dir": "ltr",
                    "name": "English",
                    "nativeName": "English"
                }
            ]
        },
        "cs": {
            "dir": "ltr",
            "name": "Czech",
            "nativeName": "Čeština",
            "translations": [
                {
                    "code": "en",
                    "dir": "ltr",
                    "name": "English",
                    "nativeName": "English"
                }
            ]
        },
        "cy": {
            "dir": "ltr",
            "name": "Welsh",
            "nativeName": "Cymraeg",
            "translations": [
                {
                    "code": "en",
                    "dir": "ltr",
                    "name": "English",
                    "nativeName": "English"
                }
            ]
        },
        "da": {
            "dir": "ltr",
            "name": "Danish",
            "nativeName": "Dansk",
            "translations": [
                {
                    "code": "en",
                    "dir": "ltr",
                    "name": "English",
                    "nativeName": "English"
                }
            ]
        },
        "de": {
            "dir": "ltr",
            "name": "German",
            "nativeName": "Deutsch",
            "translations": [
                {
                    "code": "en",
                    "dir": "ltr",
                    "name": "English",
                    "nativeName": "English"
                }
            ]
        },
        "el": {
            "dir": "ltr",
            "name": "Greek",
            "nativeName": "Ελληνικά",
            "translations": [
                {
                    "code": "en",
                    "dir": "ltr",
                    "name": "English",
                    "nativeName": "English"
                }
            ]
        },
        "en": {
            "dir": "ltr",
            "name": "English",
            "nativeName": "English",
            "translations": [
                {
                    "code": "af",
                    "dir": "ltr",
                    "name": "Afrikaans",
                    "nativeName": "Afrikaans"
                },
                {
                    "code": "ar",
                    "dir": "rtl",
                    "name": "Arabic",
                    "nativeName": "العربية"
                },
                {
                    "code": "bg",
                    "dir": "ltr",
                    "name": "Bulgarian",
                    "nativeName": "Български"
                },
                {
                    "code": "bn",
                    "dir": "ltr",
                    "name": "Bangla",
                    "nativeName": "বাংলা"
                },
                {
                    "code": "bs",
                    "dir": "ltr",
                    "name": "Bosnian",
                    "nativeName": "Bosanski"
                },
                {
                    "code": "ca",
                    "dir": "ltr",
                    "name": "Catalan",
                    "nativeName": "Català"
                },
                {
                    "code": "cs",
                    "dir": "ltr",
                    "name": "Czech",
                    "nativeName": "Čeština"
                },
                {
                    "code": "cy",
                    "dir": "ltr",
                    "name": "Welsh",
                    "nativeName": "Cymraeg"
                },
                {
                    "code": "da",
                    "dir": "ltr",
                    "name": "Danish",
                    "nativeName": "Dansk"
                },
                {
                    "code": "de",
                    "dir": "ltr",
                    "name": "German",
                    "nativeName": "Deutsch"
                },
                {
                    "code": "el",
                    "dir": "ltr",
                    "name": "Greek",
                    "nativeName": "Ελληνικά"
                },
                {
                    "code": "es",
                    "dir": "ltr",
                    "name": "Spanish",
                    "nativeName": "Español"
                },
                {
                    "code": "et",
                    "dir": "ltr",
                    "name": "Estonian",
                    "nativeName": "Eesti"
                },
                {
                    "code": "fa",
                    "dir": "rtl",
                    "name": "Persian",
                    "nativeName": "فارسی"
                },
                {
                    "code": "fi",
                    "dir": "ltr",
                    "name": "Finnish",
                    "nativeName": "Suomi"
                },
                {
                    "code": "fr",
                    "dir": "ltr",
                    "name": "French",
                    "nativeName": "Français"
                },
                {
                    "code": "he",
                    "dir": "rtl",
                    "name": "Hebrew",
                    "nativeName": "עברית"
                },
                {
                    "code": "hi",
                    "dir": "ltr",
                    "name": "Hindi",
                    "nativeName": "हिन्दी"
                },
                {
                    "code": "hr",
                    "dir": "ltr",
                    "name": "Croatian",
                    "nativeName": "Hrvatski"
                },
                {
                    "code": "hu",
                    "dir": "ltr",
                    "name": "Hungarian",
                    "nativeName": "Magyar"
                },
                {
                    "code": "id",
                    "dir": "ltr",
                    "name": "Indonesian",
                    "nativeName": "Indonesia"
                },
                {
                    "code": "is",
                    "dir": "ltr",
                    "name": "Icelandic",
                    "nativeName": "Íslenska"
                },
                {
                    "code": "it",
                    "dir": "ltr",
                    "name": "Italian",
                    "nativeName": "Italiano"
                },
                {
                    "code": "ja",
                    "dir": "ltr",
                    "name": "Japanese",
                    "nativeName": "日本語"
                },
                {
                    "code": "ko",
                    "dir": "ltr",
                    "name": "Korean",
                    "nativeName": "한국어"
                },
                {
                    "code": "lt",
                    "dir": "ltr",
                    "name": "Lithuanian",
                    "nativeName": "Lietuvių"
                },
                {
                    "code": "lv",
                    "dir": "ltr",
                    "name": "Latvian",
                    "nativeName": "Latviešu"
                },
                {
                    "code": "ms",
                    "dir": "ltr",
                    "name": "Malay",
                    "nativeName": "Melayu"
                },
                {
                    "code": "mt",
                    "dir": "ltr",
                    "name": "Maltese",
                    "nativeName": "Malti"
                },
                {
                    "code": "mww",
                    "dir": "ltr",
                    "name": "Hmong Daw",
                    "nativeName": "Hmong Daw"
                },
                {
                    "code": "nb",
                    "dir": "ltr",
                    "name": "Norwegian",
                    "nativeName": "Norsk Bokmål"
                },
                {
                    "code": "nl",
                    "dir": "ltr",
                    "name": "Dutch",
                    "nativeName": "Nederlands"
                },
                {
                    "code": "pl",
                    "dir": "ltr",
                    "name": "Polish",
                    "nativeName": "Polski"
                },
                {
                    "code": "pt",
                    "dir": "ltr",
                    "name": "Portuguese (Brazil)",
                    "nativeName": "Português (Brasil)"
                },
                {
                    "code": "ro",
                    "dir": "ltr",
                    "name": "Romanian",
                    "nativeName": "Română"
                },
                {
                    "code": "ru",
                    "dir": "ltr",
                    "name": "Russian",
                    "nativeName": "Русский"
                },
                {
                    "code": "sk",
                    "dir": "ltr",
                    "name": "Slovak",
                    "nativeName": "Slovenčina"
                },
                {
                    "code": "sl",
                    "dir": "ltr",
                    "name": "Slovenian",
                    "nativeName": "Slovenščina"
                },
                {
                    "code": "sr-Latn",
                    "dir": "ltr",
                    "name": "Serbian (Latin)",
                    "nativeName": "Srpski (latinica)"
                },
                {
                    "code": "sv",
                    "dir": "ltr",
                    "name": "Swedish",
                    "nativeName": "Svenska"
                },
                {
                    "code": "sw",
                    "dir": "ltr",
                    "name": "Swahili",
                    "nativeName": "Kiswahili"
                },
                {
                    "code": "ta",
                    "dir": "ltr",
                    "name": "Tamil",
                    "nativeName": "தமிழ்"
                },
                {
                    "code": "th",
                    "dir": "ltr",
                    "name": "Thai",
                    "nativeName": "ไทย"
                },
                {
                    "code": "tlh-Latn",
                    "dir": "ltr",
                    "name": "Klingon (Latin)",
                    "nativeName": "Klingon (Latin)"
                },
                {
                    "code": "tr",
                    "dir": "ltr",
                    "name": "Turkish",
                    "nativeName": "Türkçe"
                },
                {
                    "code": "uk",
                    "dir": "ltr",
                    "name": "Ukrainian",
                    "nativeName": "Українська"
                },
                {
                    "code": "ur",
                    "dir": "rtl",
                    "name": "Urdu",
                    "nativeName": "اردو"
                },
                {
                    "code": "vi",
                    "dir": "ltr",
                    "name": "Vietnamese",
                    "nativeName": "Tiếng Việt"
                },
                {
                    "code": "zh-Hans",
                    "dir": "ltr",
                    "name": "Chinese Simplified",
                    "nativeName": "中文 (简体)"
                }
            ]
        },
        "es": {
            "dir": "ltr",
            "name": "Spanish",
            "nativeName": "Español",
            "translations": [
                {
                    "code": "en",
                    "dir": "ltr",
                    "name": "English",
                    "nativeName": "English"
                }
            ]
        },
        "et": {
            "dir": "ltr",
            "name": "Estonian",
            "nativeName": "Eesti",
            "translations": [
                {
                    "code": "en",
                    "dir": "ltr",
                    "name": "English",
                    "nativeName": "English"
                }
            ]
        },
        "fa": {
            "dir": "rtl",
            "name": "Persian",
            "nativeName": "فارسی",
            "translations": [
                {
                    "code": "en",
                    "dir": "ltr",
                    "name": "English",
                    "nativeName": "English"
                }
            ]
        },
        "fi": {
            "dir": "ltr",
            "name": "Finnish",
            "nativeName": "Suomi",
            "translations": [
                {
                    "code": "en",
                    "dir": "ltr",
                    "name": "English",
                    "nativeName": "English"
                }
            ]
        },
        "fr": {
            "dir": "ltr",
            "name": "French",
            "nativeName": "Français",
            "translations": [
                {
                    "code": "en",
                    "dir": "ltr",
                    "name": "English",
                    "nativeName": "English"
                }
            ]
        },
        "he": {
            "dir": "rtl",
            "name": "Hebrew",
            "nativeName": "עברית",
            "translations": [
                {
                    "code": "en",
                    "dir": "ltr",
                    "name": "English",
                    "nativeName": "English"
                }
            ]
        },
        "hi": {
            "dir": "ltr",
            "name": "Hindi",
            "nativeName": "हिन्दी",
            "translations": [
                {
                    "code": "en",
                    "dir": "ltr",
                    "name": "English",
                    "nativeName": "English"
                }
            ]
        },
        "hr": {
            "dir": "ltr",
            "name": "Croatian",
            "nativeName": "Hrvatski",
            "translations": [
                {
                    "code": "en",
                    "dir": "ltr",
                    "name": "English",
                    "nativeName": "English"
                }
            ]
        },
        "hu": {
            "dir": "ltr",
            "name": "Hungarian",
            "nativeName": "Magyar",
            "translations": [
                {
                    "code": "en",
                    "dir": "ltr",
                    "name": "English",
                    "nativeName": "English"
                }
            ]
        },
        "id": {
            "dir": "ltr",
            "name": "Indonesian",
            "nativeName": "Indonesia",
            "translations": [
                {
                    "code": "en",
                    "dir": "ltr",
                    "name": "English",
                    "nativeName": "English"
                }
            ]
        },
        "is": {
            "dir": "ltr",
            "name": "Icelandic",
            "nativeName": "Íslenska",
            "translations": [
                {
                    "code": "en",
                    "dir": "ltr",
                    "name": "English",
                    "nativeName": "English"
                }
            ]
        },
        "it": {
            "dir": "ltr",
            "name": "Italian",
            "nativeName": "Italiano",
            "translations": [
                {
                    "code": "en",
                    "dir": "ltr",
                    "name": "English",
                    "nativeName": "English"
                }
            ]
        },
        "ja": {
            "dir": "ltr",
            "name": "Japanese",
            "nativeName": "日本語",
            "translations": [
                {
                    "code": "en",
                    "dir": "ltr",
                    "name": "English",
                    "nativeName": "English"
                }
            ]
        },
        "ko": {
            "dir": "ltr",
            "name": "Korean",
            "nativeName": "한국어",
            "translations": [
                {
                    "code": "en",
                    "dir": "ltr",
                    "name": "English",
                    "nativeName": "English"
                }
            ]
        },
        "lt": {
            "dir": "ltr",
            "name": "Lithuanian",
            "nativeName": "Lietuvių",
            "translations": [
                {
                    "code": "en",
                    "dir": "ltr",
                    "name": "English",
                    "nativeName": "English"
                }
            ]
        },
        "lv": {
            "dir": "ltr",
            "name": "Latvian",
            "nativeName": "Latviešu",
            "translations": [
                {
                    "code": "en",
                    "dir": "ltr",
                    "name": "English",
                    "nativeName": "English"
                }
            ]
        },
        "ms": {
            "dir": "ltr",
            "name": "Malay",
            "nativeName": "Melayu",
            "translations": [
                {
                    "code": "en",
                    "dir": "ltr",
                    "name": "English",
                    "nativeName": "English"
                }
            ]
        },
        "mt": {
            "dir": "ltr",
            "name": "Maltese",
            "nativeName": "Malti",
            "translations": [
                {
                    "code": "en",
                    "dir": "ltr",
                    "name": "English",
                    "nativeName": "English"
                }
            ]
        },
        "mww": {
            "dir": "ltr",
            "name": "Hmong Daw",
            "nativeName": "Hmong Daw",
            "translations": [
                {
                    "code": "en",
                    "dir": "ltr",
                    "name": "English",
                    "nativeName": "English"
                }
            ]
        },
        "nb": {
            "dir": "ltr",
            "name": "Norwegian",
            "nativeName": "Norsk Bokmål",
            "translations": [
                {
                    "code": "en",
                    "dir": "ltr",
                    "name": "English",
                    "nativeName": "English"
                }
            ]
        },
        "nl": {
            "dir": "ltr",
            "name": "Dutch",
            "nativeName": "Nederlands",
            "translations": [
                {
                    "code": "en",
                    "dir": "ltr",
                    "name": "English",
                    "nativeName": "English"
                }
            ]
        },
        "pl": {
            "dir": "ltr",
            "name": "Polish",
            "nativeName": "Polski",
            "translations": [
                {
                    "code": "en",
                    "dir": "ltr",
                    "name": "English",
                    "nativeName": "English"
                }
            ]
        },
        "pt": {
            "dir": "ltr",
            "name": "Portuguese (Brazil)",
            "nativeName": "Português (Brasil)",
            "translations": [
                {
                    "code": "en",
                    "dir": "ltr",
                    "name": "English",
                    "nativeName": "English"
                }
            ]
        },
        "ro": {
            "dir": "ltr",
            "name": "Romanian",
            "nativeName": "Română",
            "translations": [
                {
                    "code": "en",
                    "dir": "ltr",
                    "name": "English",
                    "nativeName": "English"
                }
            ]
        },
        "ru": {
            "dir": "ltr",
            "name": "Russian",
            "nativeName": "Русский",
            "translations": [
                {
                    "code": "en",
                    "dir": "ltr",
                    "name": "English",
                    "nativeName": "English"
                }
            ]
        },
        "sk": {
            "dir": "ltr",
            "name": "Slovak",
            "nativeName": "Slovenčina",
            "translations": [
                {
                    "code": "en",
                    "dir": "ltr",
                    "name": "English",
                    "nativeName": "English"
                }
            ]
        },
        "sl": {
            "dir": "ltr",
            "name": "Slovenian",
            "nativeName": "Slovenščina",
            "translations": [
                {
                    "code": "en",
                    "dir": "ltr",
                    "name": "English",
                    "nativeName": "English"
                }
            ]
        },
        "sr-Latn": {
            "dir": "ltr",
            "name": "Serbian (Latin)",
            "nativeName": "Srpski (latinica)",
            "translations": [
                {
                    "code": "en",
                    "dir": "ltr",
                    "name": "English",
                    "nativeName": "English"
                }
            ]
        },
        "sv": {
            "dir": "ltr",
            "name": "Swedish",
            "nativeName": "Svenska",
            "translations": [
                {
                    "code": "en",
                    "dir": "ltr",
                    "name": "English",
                    "nativeName": "English"
                }
            ]
        },
        "sw": {
            "dir": "ltr",
            "name": "Swahili",
            "nativeName": "Kiswahili",
            "translations": [
                {
                    "code": "en",
                    "dir": "ltr",
                    "name": "English",
                    "nativeName": "English"
                }
            ]
        },
        "ta": {
            "dir": "ltr",
            "name": "Tamil",
            "nativeName": "தமிழ்",
            "translations": [
                {
                    "code": "en",
                    "dir": "ltr",
                    "name": "English",
                    "nativeName": "English"
                }
            ]
        },
        "th": {
            "dir": "ltr",
            "name": "Thai",
            "nativeName": "ไทย",
            "translations": [
                {
                    "code": "en",
                    "dir": "ltr",
                    "name": "English",
                    "nativeName": "English"
                }
            ]
        },
        "tlh-Latn": {
            "dir": "ltr",
            "name": "Klingon (Latin)",
            "nativeName": "Klingon (Latin)",
            "translations": [
                {
                    "code": "en",
                    "dir": "ltr",
                    "name": "English",
                    "nativeName": "English"
                }
            ]
        },
        "tr": {
            "dir": "ltr",
            "name": "Turkish",
            "nativeName": "Türkçe",
            "translations": [
                {
                    "code": "en",
                    "dir": "ltr",
                    "name": "English",
                    "nativeName": "English"
                }
            ]
        },
        "uk": {
            "dir": "ltr",
            "name": "Ukrainian",
            "nativeName": "Українська",
            "translations": [
                {
                    "code": "en",
                    "dir": "ltr",
                    "name": "English",
                    "nativeName": "English"
                }
            ]
        },
        "ur": {
            "dir": "rtl",
            "name": "Urdu",
            "nativeName": "اردو",
            "translations": [
                {
                    "code": "en",
                    "dir": "ltr",
                    "name": "English",
                    "nativeName": "English"
                }
            ]
        },
        "vi": {
            "dir": "ltr",
            "name": "Vietnamese",
            "nativeName": "Tiếng Việt",
            "translations": [
                {
                    "code": "en",
                    "dir": "ltr",
                    "name": "English",
                    "nativeName": "English"
                }
            ]
        },
        "zh-Hans": {
            "dir": "ltr",
            "name": "Chinese Simplified",
            "nativeName": "中文 (简体)",
            "translations": [
                {
                    "code": "en",
                    "dir": "ltr",
                    "name": "English",
                    "nativeName": "English"
                }
            ]
        }
    },
    "translation": {
        "af": {
            "dir": "ltr",
            "name": "Afrikaans",
            "nativeName": "Afrikaans"
        },
        "am": {
            "dir": "ltr",
            "name": "Amharic",
            "nativeName": "አማርኛ"
        },
        "ar": {
            "dir": "rtl",
            "name": "Arabic",
            "nativeName": "العربية"
        },
        "as": {
            "dir": "ltr",
            "name": "Assamese",
            "nativeName": "অসমীয়া"
        },
        "az": {
            "dir": "ltr",
            "name": "Azerbaijani",
            "nativeName": "Azərbaycan"
        },
        "ba": {
            "dir": "ltr",
            "name": "Bashkir",
            "nativeName": "Bashkir"
        },
        "bg": {
            "dir": "ltr",
            "name": "Bulgarian",
            "nativeName": "Български"
        },
        "bho": {
            "dir": "ltr",
            "name": "Bhojpuri",
            "nativeName": "भोजपुरी"
        },
        "bn": {
            "dir": "ltr",
            "name": "Bangla",
            "nativeName": "বাংলা"
        },
        "bo": {
            "dir": "ltr",
            "name": "Tibetan",
            "nativeName": "བོད་སྐད་"
        },
        "brx": {
            "dir": "ltr",
            "name": "Bodo",
            "nativeName": "बड़ो"
        },
        "bs": {
            "dir": "ltr",
            "name": "Bosnian",
            "nativeName": "Bosanski"
        },
        "ca": {
            "dir": "ltr",
            "name": "Catalan",
            "nativeName": "Català"
        },
        "cs": {
            "dir": "ltr",
            "name": "Czech",
            "nativeName": "Čeština"
        },
        "cy": {
            "dir": "ltr",
            "name": "Welsh",
            "nativeName": "Cymraeg"
        },
        "da": {
            "dir": "ltr",
            "name": "Danish",
            "nativeName": "Dansk"
        },
        "de": {
            "dir": "ltr",
            "name": "German",
            "nativeName": "Deutsch"
        },
        "doi": {
            "dir": "ltr",
            "name": "Dogri",
            "nativeName": "डोगरी"
        },
        "dsb": {
            "dir": "ltr",
            "name": "Lower Sorbian",
            "nativeName": "Dolnoserbšćina"
        },
        "dv": {
            "dir": "rtl",
            "name": "Divehi",
            "nativeName": "ދިވެހިބަސް"
        },
        "el": {
            "dir": "ltr",
            "name": "Greek",
            "nativeName": "Ελληνικά"
        },
        "en": {
            "dir": "ltr",
            "name": "English",
            "nativeName": "English"
        },
        "es": {
            "dir": "ltr",
            "name": "Spanish",
            "nativeName": "Español"
        },
        "et": {
            "dir": "ltr",
            "name": "Estonian",
            "nativeName": "Eesti"
        },
        "eu": {
            "dir": "ltr",
            "name": "Basque",
            "nativeName": "Euskara"
        },
        "fa": {
            "dir": "rtl",
            "name": "Persian",
            "nativeName": "فارسی"
        },
        "fi": {
            "dir": "ltr",
            "name": "Finnish",
            "nativeName": "Suomi"
        },
        "fil": {
            "dir": "ltr",
            "name": "Filipino",
            "nativeName": "Filipino"
        },
        "fj": {
            "dir": "ltr",
            "name": "Fijian",
            "nativeName": "Na Vosa Vakaviti"
        },
        "fo": {
            "dir": "ltr",
            "name": "Faroese",
            "nativeName": "Føroyskt"
        },
        "fr": {
            "dir": "ltr",
            "name": "French",
            "nativeName": "Français"
        },
        "fr-CA": {
            "dir": "ltr",
            "name": "French (Canada)",
            "nativeName": "Français (Canada)"
        },
        "ga": {
            "dir": "ltr",
            "name": "Irish",
            "nativeName": "Gaeilge"
        },
        "gl": {
            "dir": "ltr",
            "name": "Galician",
            "nativeName": "Galego"
        },
        "gom": {
            "dir": "ltr",
            "name": "Konkani",
            "nativeName": "कोंकणी"
        },
        "gu": {
            "dir": "ltr",
            "name": "Gujarati",
            "nativeName": "ગુજરાતી"
        },
        "ha": {
            "dir": "ltr",
            "name": "Hausa",
            "nativeName": "Hausa"
        },
        "he": {
            "dir": "rtl",
            "name": "Hebrew",
            "nativeName": "עברית"
        },
        "hi": {
            "dir": "ltr",
            "name": "Hindi",
            "nativeName": "हिन्दी"
        },
        "hne": {
            "dir": "ltr",
            "name": "Chhattisgarhi",
            "nativeName": "छत्तीसगढ़ी"
        },
        "hr": {
            "dir": "ltr",
            "name": "Croatian",
            "nativeName": "Hrvatski"
        },
        "hsb": {
            "dir": "ltr",
            "name": "Upper Sorbian",
            "nativeName": "Hornjoserbšćina"
        },
        "ht": {
            "dir": "ltr",
            "name": "Haitian Creole",
            "nativeName": "Haitian Creole"
        },
        "hu": {
            "dir": "ltr",
            "name": "Hungarian",
            "nativeName": "Magyar"
        },
        "hy": {
            "dir": "ltr",
            "name": "Armenian",
            "nativeName": "Հայերեն"
        },
        "id": {
            "dir": "ltr",
            "name": "Indonesian",
            "nativeName": "Indonesia"
        },
        "ig": {
            "dir": "ltr",
            "name": "Igbo",
            "nativeName": "Ásụ̀sụ́ Ìgbò"
        },
        "ikt": {
            "dir": "ltr",
            "name": "Inuinnaqtun",
            "nativeName": "Inuinnaqtun"
        },
        "is": {
            "dir": "ltr",
            "name": "Icelandic",
            "nativeName": "Íslenska"
        },
        "it": {
            "dir": "ltr",
            "name": "Italian",
            "nativeName": "Italiano"
        },
        "iu": {
            "dir": "ltr",
            "name": "Inuktitut",
            "nativeName": "ᐃᓄᒃᑎᑐᑦ"
        },
        "iu-Latn": {
            "dir": "ltr",
            "name": "Inuktitut (Latin)",
            "nativeName": "Inuktitut (Latin)"
        },
        "ja": {
            "dir": "ltr",
            "name": "Japanese",
            "nativeName": "日本語"
        },
        "ka": {
            "dir": "ltr",
            "name": "Georgian",
            "nativeName": "ქართული"
        },
        "kk": {
            "dir": "ltr",
            "name": "Kazakh",
            "nativeName": "Қазақ Тілі"
        },
        "km": {
            "dir": "ltr",
            "name": "Khmer",
            "nativeName": "ខ្មែរ"
        },
        "kmr": {
            "dir": "ltr",
            "name": "Kurdish (Northern)",
            "nativeName": "Kurdî (Bakur)"
        },
        "kn": {
            "dir": "ltr",
            "name": "Kannada",
            "nativeName": "ಕನ್ನಡ"
        },
        "ko": {
            "dir": "ltr",
            "name": "Korean",
            "nativeName": "한국어"
        },
        "ks": {
            "dir": "rtl",
            "name": "Kashmiri",
            "nativeName": "کٲشُر"
        },
        "ku": {
            "dir": "rtl",
            "name": "Kurdish (Central)",
            "nativeName": "Kurdî (Navîn)"
        },
        "ky": {
            "dir": "ltr",
            "name": "Kyrgyz",
            "nativeName": "Кыргызча"
        },
        "ln": {
            "dir": "ltr",
            "name": "Lingala",
            "nativeName": "Lingála"
        },
        "lo": {
            "dir": "ltr",
            "name": "Lao",
            "nativeName": "ລາວ"
        },
        "lt": {
            "dir": "ltr",
            "name": "Lithuanian",
            "nativeName": "Lietuvių"
        },
        "lug": {
            "dir": "ltr",
            "name": "Ganda",
            "nativeName": "Ganda"
        },
        "lv": {
            "dir": "ltr",
            "name": "Latvian",
            "nativeName": "Latviešu"
        },
        "lzh": {
            "dir": "ltr",
            "name": "Chinese (Literary)",
            "nativeName": "中文 (文言文)"
        },
        "mai": {
            "dir": "ltr",
            "name": "Maithili",
            "nativeName": "मैथिली"
        },
        "mg": {
            "dir": "ltr",
            "name": "Malagasy",
            "nativeName": "Malagasy"
        },
        "mi": {
            "dir": "ltr",
            "name": "Māori",
            "nativeName": "Te Reo Māori"
        },
        "mk": {
            "dir": "ltr",
            "name": "Macedonian",
            "nativeName": "Македонски"
        },
        "ml": {
            "dir": "ltr",
            "name": "Malayalam",
            "nativeName": "മലയാളം"
        },
        "mn-Cyrl": {
            "dir": "ltr",
            "name": "Mongolian (Cyrillic)",
            "nativeName": "Монгол"
        },
        "mn-Mong": {
            "dir": "ltr",
            "name": "Mongolian (Traditional)",
            "nativeName": "ᠮᠣᠩᠭᠣᠯ ᠬᠡᠯᠡ"
        },
        "mni": {
            "dir": "ltr",
            "name": "Manipuri",
            "nativeName": "ꯃꯩꯇꯩꯂꯣꯟ"
        },
        "mr": {
            "dir": "ltr",
            "name": "Marathi",
            "nativeName": "मराठी"
        },
        "ms": {
            "dir": "ltr",
            "name": "Malay",
            "nativeName": "Melayu"
        },
        "mt": {
            "dir": "ltr",
            "name": "Maltese",
            "nativeName": "Malti"
        },
        "mww": {
            "dir": "ltr",
            "name": "Hmong Daw",
            "nativeName": "Hmong Daw"
        },
        "my": {
            "dir": "ltr",
            "name": "Myanmar (Burmese)",
            "nativeName": "မြန်မာ"
        },
        "nb": {
            "dir": "ltr",
            "name": "Norwegian",
            "nativeName": "Norsk Bokmål"
        },
        "ne": {
            "dir": "ltr",
            "name": "Nepali",
            "nativeName": "नेपाली"
        },
        "nl": {
            "dir": "ltr",
            "name": "Dutch",
            "nativeName": "Nederlands"
        },
        "nso": {
            "dir": "ltr",
            "name": "Sesotho sa Leboa",
            "nativeName": "Sesotho sa Leboa"
        },
        "nya": {
            "dir": "ltr",
            "name": "Nyanja",
            "nativeName": "Nyanja"
        },
        "or": {
            "dir": "ltr",
            "name": "Odia",
            "nativeName": "ଓଡ଼ିଆ"
        },
        "otq": {
            "dir": "ltr",
            "name": "Querétaro Otomi",
            "nativeName": "Hñähñu"
        },
        "pa": {
            "dir": "ltr",
            "name": "Punjabi",
            "nativeName": "ਪੰਜਾਬੀ"
        },
        "pl": {
            "dir": "ltr",
            "name": "Polish",
            "nativeName": "Polski"
        },
        "prs": {
            "dir": "rtl",
            "name": "Dari",
            "nativeName": "دری"
        },
        "ps": {
            "dir": "rtl",
            "name": "Pashto",
            "nativeName": "پښتو"
        },
        "pt": {
            "dir": "ltr",
            "name": "Portuguese (Brazil)",
            "nativeName": "Português (Brasil)"
        },
        "pt-PT": {
            "dir": "ltr",
            "name": "Portuguese (Portugal)",
            "nativeName": "Português (Portugal)"
        },
        "ro": {
            "dir": "ltr",
            "name": "Romanian",
            "nativeName": "Română"
        },
        "ru": {
            "dir": "ltr",
            "name": "Russian",
            "nativeName": "Русский"
        },
        "run": {
            "dir": "ltr",
            "name": "Rundi",
            "nativeName": "Rundi"
        },
        "rw": {
            "dir": "ltr",
            "name": "Kinyarwanda",
            "nativeName": "Kinyarwanda"
        },
        "sd": {
            "dir": "rtl",
            "name": "Sindhi",
            "nativeName": "سنڌي"
        },
        "si": {
            "dir": "ltr",
            "name": "Sinhala",
            "nativeName": "සිංහල"
        },
        "sk": {
            "dir": "ltr",
            "name": "Slovak",
            "nativeName": "Slovenčina"
        },
        "sl": {
            "dir": "ltr",
            "name": "Slovenian",
            "nativeName": "Slovenščina"
        },
        "sm": {
            "dir": "ltr",
            "name": "Samoan",
            "nativeName": "Gagana Sāmoa"
        },
        "sn": {
            "dir": "ltr",
            "name": "Shona",
            "nativeName": "chiShona"
        },
        "so": {
            "dir": "ltr",
            "name": "Somali",
            "nativeName": "Soomaali"
        },
        "sq": {
            "dir": "ltr",
            "name": "Albanian",
            "nativeName": "Shqip"
        },
        "sr-Cyrl": {
            "dir": "ltr",
            "name": "Serbian (Cyrillic)",
            "nativeName": "Српски (ћирилица)"
        },
        "sr-Latn": {
            "dir": "ltr",
            "name": "Serbian (Latin)",
            "nativeName": "Srpski (latinica)"
        },
        "st": {
            "dir": "ltr",
            "name": "Sesotho",
            "nativeName": "Sesotho"
        },
        "sv": {
            "dir": "ltr",
            "name": "Swedish",
            "nativeName": "Svenska"
        },
        "sw": {
            "dir": "ltr",
            "name": "Swahili",
            "nativeName": "Kiswahili"
        },
        "ta": {
            "dir": "ltr",
            "name": "Tamil",
            "nativeName": "தமிழ்"
        },
        "te": {
            "dir": "ltr",
            "name": "Telugu",
            "nativeName": "తెలుగు"
        },
        "th": {
            "dir": "ltr",
            "name": "Thai",
            "nativeName": "ไทย"
        },
        "ti": {
            "dir": "ltr",
            "name": "Tigrinya",
            "nativeName": "ትግር"
        },
        "tk": {
            "dir": "ltr",
            "name": "Turkmen",
            "nativeName": "Türkmen Dili"
        },
        "tlh-Latn": {
            "dir": "ltr",
            "name": "Klingon (Latin)",
            "nativeName": "Klingon (Latin)"
        },
        "tlh-Piqd": {
            "dir": "ltr",
            "name": "Klingon (pIqaD)",
            "nativeName": "Klingon (pIqaD)"
        },
        "tn": {
            "dir": "ltr",
            "name": "Setswana",
            "nativeName": "Setswana"
        },
        "to": {
            "dir": "ltr",
            "name": "Tongan",
            "nativeName": "Lea Fakatonga"
        },
        "tr": {
            "dir": "ltr",
            "name": "Turkish",
            "nativeName": "Türkçe"
        },
        "tt": {
            "dir": "ltr",
            "name": "Tatar",
            "nativeName": "Татар"
        },
        "ty": {
            "dir": "ltr",
            "name": "Tahitian",
            "nativeName": "Reo Tahiti"
        },
        "ug": {
            "dir": "rtl",
            "name": "Uyghur",
            "nativeName": "ئۇيغۇرچە"
        },
        "uk": {
            "dir": "ltr",
            "name": "Ukrainian",
            "nativeName": "Українська"
        },
        "ur": {
            "dir": "rtl",
            "name": "Urdu",
            "nativeName": "اردو"
        },
        "uz": {
            "dir": "ltr",
            "name": "Uzbek (Latin)",
            "nativeName": "O‘Zbek"
        },
        "vi": {
            "dir": "ltr",
            "name": "Vietnamese",
            "nativeName": "Tiếng Việt"
        },
        "xh": {
            "dir": "ltr",
            "name": "Xhosa",
            "nativeName": "isiXhosa"
        },
        "yo": {
            "dir": "ltr",
            "name": "Yoruba",
            "nativeName": "Èdè Yorùbá"
        },
        "yua": {
            "dir": "ltr",
            "name": "Yucatec Maya",
            "nativeName": "Yucatec Maya"
        },
        "yue": {
            "dir": "ltr",
            "name": "Cantonese (Traditional)",
            "nativeName": "粵語 (繁體)"
        },
        "zh-Hans": {
            "dir": "ltr",
            "name": "Chinese Simplified",
            "nativeName": "中文 (简体)"
        },
        "zh-Hant": {
            "dir": "ltr",
            "name": "Chinese Traditional",
            "nativeName": "繁體中文 (繁體)"
        },
        "zu": {
            "dir": "ltr",
            "name": "Zulu",
            "nativeName": "Isi-Zulu"
        }
    },
    "transliteration": {
        "ar": {
            "name": "Arabic",
            "nativeName": "العربية",
            "scripts": [
                {
                    "code": "Arab",
                    "dir": "rtl",
                    "name": "Arabic",
                    "nativeName": "العربية",
                    "toScripts": [
                        {
                            "code": "Latn",
                            "dir": "ltr",
                            "name": "Latin",
                            "nativeName": "اللاتينية"
                        }
                    ]
                },
                {
                    "code": "Latn",
                    "dir": "ltr",
                    "name": "Latin",
                    "nativeName": "اللاتينية",
                    "toScripts": [
                        {
                            "code": "Arab",
                            "dir": "rtl",
                            "name": "Arabic",
                            "nativeName": "العربية"
                        }
                    ]
                }
            ]
        },
        "as": {
            "name": "Assamese",
            "nativeName": "অসমীয়া",
            "scripts": [
                {
                    "code": "Beng",
                    "dir": "ltr",
                    "name": "Bengali",
                    "nativeName": "বাংলা",
                    "toScripts": [
                        {
                            "code": "Latn",
                            "dir": "ltr",
                            "name": "Latin",
                            "nativeName": "লেটিন"
                        }
                    ]
                },
                {
                    "code": "Latn",
                    "dir": "ltr",
                    "name": "Latin",
                    "nativeName": "লেটিন",
                    "toScripts": [
                        {
                            "code": "Beng",
                            "dir": "ltr",
                            "name": "Bangla",
                            "nativeName": "বাংলা"
                        }
                    ]
                }
            ]
        },
        "be": {
            "name": "Belarusian",
            "nativeName": "беларуская",
            "scripts": [
                {
                    "code": "Cyrl",
                    "dir": "ltr",
                    "name": "Cyrillic",
                    "nativeName": "Кірыліца",
                    "toScripts": [
                        {
                            "code": "Latn",
                            "dir": "ltr",
                            "name": "Latin",
                            "nativeName": "Лацініца"
                        }
                    ]
                },
                {
                    "code": "Latn",
                    "dir": "ltr",
                    "name": "Latin",
                    "nativeName": "Лацініца",
                    "toScripts": [
                        {
                            "code": "Cyrl",
                            "dir": "ltr",
                            "name": "Cyrillic",
                            "nativeName": "Кірыліца"
                        }
                    ]
                }
            ]
        },
        "bg": {
            "name": "Bulgarian",
            "nativeName": "Български",
            "scripts": [
                {
                    "code": "Cyrl",
                    "dir": "ltr",
                    "name": "Cyrillic",
                    "nativeName": "кирилица",
                    "toScripts": [
                        {
                            "code": "Latn",
                            "dir": "ltr",
                            "name": "Latin",
                            "nativeName": "латиница"
                        }
                    ]
                },
                {
                    "code": "Latn",
                    "dir": "ltr",
                    "name": "Latin",
                    "nativeName": "латиница",
                    "toScripts": [
                        {
                            "code": "Cyrl",
                            "dir": "ltr",
                            "name": "Cyrillic",
                            "nativeName": "кирилица"
                        }
                    ]
                }
            ]
        },
        "bn": {
            "name": "Bangla",
            "nativeName": "বাংলা",
            "scripts": [
                {
                    "code": "Beng",
                    "dir": "ltr",
                    "name": "Bengali",
                    "nativeName": "বাংলা",
                    "toScripts": [
                        {
                            "code": "Latn",
                            "dir": "ltr",
                            "name": "Latin",
                            "nativeName": "ল্যাটিন"
                        }
                    ]
                },
                {
                    "code": "Latn",
                    "dir": "ltr",
                    "name": "Latin",
                    "nativeName": "ল্যাটিন",
                    "toScripts": [
                        {
                            "code": "Beng",
                            "dir": "ltr",
                            "name": "Bangla",
                            "nativeName": "বাংলা"
                        }
                    ]
                }
            ]
        },
        "brx": {
            "name": "Bodo",
            "nativeName": "बड़ो",
            "scripts": [
                {
                    "code": "Deva",
                    "dir": "ltr",
                    "name": "Devanagari",
                    "nativeName": "Devanagari",
                    "toScripts": [
                        {
                            "code": "Latn",
                            "dir": "ltr",
                            "name": "Latin",
                            "nativeName": "Latin"
                        }
                    ]
                },
                {
                    "code": "Latn",
                    "dir": "ltr",
                    "name": "Latin",
                    "nativeName": "Latin",
                    "toScripts": [
                        {
                            "code": "Deva",
                            "dir": "ltr",
                            "name": "Devanagari",
                            "nativeName": "Devanagari"
                        }
                    ]
                }
            ]
        },
        "el": {
            "name": "Greek",
            "nativeName": "Ελληνικά",
            "scripts": [
                {
                    "code": "Grek",
                    "dir": "ltr",
                    "name": "Greek",
                    "nativeName": "ελληνικό",
                    "toScripts": [
                        {
                            "code": "Latn",
                            "dir": "ltr",
                            "name": "Latin",
                            "nativeName": "λατινικό"
                        }
                    ]
                },
                {
                    "code": "Latn",
                    "dir": "ltr",
                    "name": "Latin",
                    "nativeName": "λατινικό",
                    "toScripts": [
                        {
                            "code": "Grek",
                            "dir": "ltr",
                            "name": "Greek",
                            "nativeName": "ελληνικό"
                        }
                    ]
                }
            ]
        },
        "fa": {
            "name": "Persian",
            "nativeName": "فارسی",
            "scripts": [
                {
                    "code": "Arab",
                    "dir": "rtl",
                    "name": "Arabic",
                    "nativeName": "عربی",
                    "toScripts": [
                        {
                            "code": "Latn",
                            "dir": "ltr",
                            "name": "Latin",
                            "nativeName": "لاتین"
                        }
                    ]
                },
                {
                    "code": "Latn",
                    "dir": "ltr",
                    "name": "Latin",
                    "nativeName": "لاتین",
                    "toScripts": [
                        {
                            "code": "Arab",
                            "dir": "rtl",
                            "name": "Arabic",
                            "nativeName": "عربی"
                        }
                    ]
                }
            ]
        },
        "gom": {
            "name": "Konkani",
            "nativeName": "कोंकणी",
            "scripts": [
                {
                    "code": "Deva",
                    "dir": "ltr",
                    "name": "Devanagari",
                    "nativeName": "Devanagari",
                    "toScripts": [
                        {
                            "code": "Latn",
                            "dir": "ltr",
                            "name": "Latin",
                            "nativeName": "Latin"
                        }
                    ]
                },
                {
                    "code": "Latn",
                    "dir": "ltr",
                    "name": "Latin",
                    "nativeName": "Latin",
                    "toScripts": [
                        {
                            "code": "Deva",
                            "dir": "ltr",
                            "name": "Devanagari",
                            "nativeName": "Devanagari"
                        }
                    ]
                }
            ]
        },
        "gu": {
            "name": "Gujarati",
            "nativeName": "ગુજરાતી",
            "scripts": [
                {
                    "code": "Gujr",
                    "dir": "ltr",
                    "name": "Gujarati",
                    "nativeName": "ગુજરાતી",
                    "toScripts": [
                        {
                            "code": "Latn",
                            "dir": "ltr",
                            "name": "Latin",
                            "nativeName": "લેટિન"
                        }
                    ]
                },
                {
                    "code": "Latn",
                    "dir": "ltr",
                    "name": "Latin",
                    "nativeName": "લેટિન",
                    "toScripts": [
                        {
                            "code": "Gujr",
                            "dir": "ltr",
                            "name": "Gujarati",
                            "nativeName": "ગુજરાતી"
                        }
                    ]
                }
            ]
        },
        "he": {
            "name": "Hebrew",
            "nativeName": "עברית",
            "scripts": [
                {
                    "code": "Hebr",
                    "dir": "rtl",
                    "name": "Hebrew",
                    "nativeName": "עברי",
                    "toScripts": [
                        {
                            "code": "Latn",
                            "dir": "ltr",
                            "name": "Latin",
                            "nativeName": "לטיני"
                        }
                    ]
                },
                {
                    "code": "Latn",
                    "dir": "ltr",
                    "name": "Latin",
                    "nativeName": "לטיני",
                    "toScripts": [
                        {
                            "code": "Hebr",
                            "dir": "rtl",
                            "name": "Hebrew",
                            "nativeName": "עברי"
                        }
                    ]
                }
            ]
        },
        "hi": {
            "name": "Hindi",
            "nativeName": "हिन्दी",
            "scripts": [
                {
                    "code": "Deva",
                    "dir": "ltr",
                    "name": "Devanagari",
                    "nativeName": "देवनागरी",
                    "toScripts": [
                        {
                            "code": "Latn",
                            "dir": "ltr",
                            "name": "Latin",
                            "nativeName": "लैटिन"
                        }
                    ]
                },
                {
                    "code": "Latn",
                    "dir": "ltr",
                    "name": "Latin",
                    "nativeName": "लैटिन",
                    "toScripts": [
                        {
                            "code": "Deva",
                            "dir": "ltr",
                            "name": "Devanagari",
                            "nativeName": "देवनागरी"
                        }
                    ]
                }
            ]
        },
        "ja": {
            "name": "Japanese",
            "nativeName": "日本語",
            "scripts": [
                {
                    "code": "Jpan",
                    "dir": "ltr",
                    "name": "Japanese",
                    "nativeName": "日本語の文字",
                    "toScripts": [
                        {
                            "code": "Latn",
                            "dir": "ltr",
                            "name": "Latin",
                            "nativeName": "ラテン文字"
                        }
                    ]
                },
                {
                    "code": "Latn",
                    "dir": "ltr",
                    "name": "Latin",
                    "nativeName": "ラテン文字",
                    "toScripts": [
                        {
                            "code": "Jpan",
                            "dir": "ltr",
                            "name": "Japanese",
                            "nativeName": "日本語の文字"
                        }
                    ]
                }
            ]
        },
        "kk": {
            "name": "Kazakh",
            "nativeName": "Қазақ Тілі",
            "scripts": [
                {
                    "code": "Cyrl",
                    "dir": "ltr",
                    "name": "Cyrillic",
                    "nativeName": "кирилл жазуы",
                    "toScripts": [
                        {
                            "code": "Latn",
                            "dir": "ltr",
                            "name": "Latin",
                            "nativeName": "латын жазуы"
                        }
                    ]
                },
                {
                    "code": "Latn",
                    "dir": "ltr",
                    "name": "Latin",
                    "nativeName": "латын жазуы",
                    "toScripts": [
                        {
                            "code": "Cyrl",
                            "dir": "ltr",
                            "name": "Cyrillic",
                            "nativeName": "кирилл жазуы"
                        }
                    ]
                }
            ]
        },
        "kn": {
            "name": "Kannada",
            "nativeName": "ಕನ್ನಡ",
            "scripts": [
                {
                    "code": "Knda",
                    "dir": "ltr",
                    "name": "Kannada",
                    "nativeName": "ಕನ್ನಡ",
                    "toScripts": [
                        {
                            "code": "Latn",
                            "dir": "ltr",
                            "name": "Latin",
                            "nativeName": "ಲ್ಯಾಟಿನ್"
                        }
                    ]
                },
                {
                    "code": "Latn",
                    "dir": "ltr",
                    "name": "Latin",
                    "nativeName": "ಲ್ಯಾಟಿನ್",
                    "toScripts": [
                        {
                            "code": "Knda",
                            "dir": "ltr",
                            "name": "Kannada",
                            "nativeName": "ಕನ್ನಡ"
                        }
                    ]
                }
            ]
        },
        "ko": {
            "name": "Korean",
            "nativeName": "한국어",
            "scripts": [
                {
                    "code": "Kore",
                    "dir": "ltr",
                    "name": "Korean",
                    "nativeName": "한국 문자",
                    "toScripts": [
                        {
                            "code": "Latn",
                            "dir": "ltr",
                            "name": "Latin",
                            "nativeName": "로마자"
                        }
                    ]
                },
                {
                    "code": "Latn",
                    "dir": "ltr",
                    "name": "Latin",
                    "nativeName": "로마자",
                    "toScripts": [
                        {
                            "code": "Kore",
                            "dir": "ltr",
                            "name": "Korean",
                            "nativeName": "한국 문자"
                        }
                    ]
                }
            ]
        },
        "ks": {
            "name": "Kashmiri",
            "nativeName": "کٲشُر",
            "scripts": [
                {
                    "code": "Arab",
                    "dir": "rtl",
                    "name": "Arabic",
                    "nativeName": "Arabic",
                    "toScripts": [
                        {
                            "code": "Latn",
                            "dir": "ltr",
                            "name": "Latin",
                            "nativeName": "Latin"
                        }
                    ]
                },
                {
                    "code": "Latn",
                    "dir": "ltr",
                    "name": "Latin",
                    "nativeName": "Latin",
                    "toScripts": [
                        {
                            "code": "Arab",
                            "dir": "rtl",
                            "name": "Arabic",
                            "nativeName": "Arabic"
                        }
                    ]
                }
            ]
        },
        "ky": {
            "name": "Kyrgyz",
            "nativeName": "Кыргызча",
            "scripts": [
                {
                    "code": "Cyrl",
                    "dir": "ltr",
                    "name": "Cyrillic",
                    "nativeName": "кирилл",
                    "toScripts": [
                        {
                            "code": "Latn",
                            "dir": "ltr",
                            "name": "Latin",
                            "nativeName": "латын"
                        }
                    ]
                },
                {
                    "code": "Latn",
                    "dir": "ltr",
                    "name": "Latin",
                    "nativeName": "латын",
                    "toScripts": [
                        {
                            "code": "Cyrl",
                            "dir": "ltr",
                            "name": "Cyrillic",
                            "nativeName": "кирилл"
                        }
                    ]
                }
            ]
        },
        "mai": {
            "name": "Maithili",
            "nativeName": "मैथिली",
            "scripts": [
                {
                    "code": "Deva",
                    "dir": "ltr",
                    "name": "Devanagari",
                    "nativeName": "Devanagari",
                    "toScripts": [
                        {
                            "code": "Latn",
                            "dir": "ltr",
                            "name": "Latin",
                            "nativeName": "Latin"
                        }
                    ]
                },
                {
                    "code": "Latn",
                    "dir": "ltr",
                    "name": "Latin",
                    "nativeName": "Latin",
                    "toScripts": [
                        {
                            "code": "Deva",
                            "dir": "ltr",
                            "name": "Devanagari",
                            "nativeName": "Devanagari"
                        }
                    ]
                }
            ]
        },
        "mk": {
            "name": "Macedonian",
            "nativeName": "Македонски",
            "scripts": [
                {
                    "code": "Cyrl",
                    "dir": "ltr",
                    "name": "Cyrillic",
                    "nativeName": "кирилско писмо",
                    "toScripts": [
                        {
                            "code": "Latn",
                            "dir": "ltr",
                            "name": "Latin",
                            "nativeName": "латинично писмо"
                        }
                    ]
                },
                {
                    "code": "Latn",
                    "dir": "ltr",
                    "name": "Latin",
                    "nativeName": "латинично писмо",
                    "toScripts": [
                        {
                            "code": "Cyrl",
                            "dir": "ltr",
                            "name": "Cyrillic",
                            "nativeName": "кирилско писмо"
                        }
                    ]
                }
            ]
        },
        "ml": {
            "name": "Malayalam",
            "nativeName": "മലയാളം",
            "scripts": [
                {
                    "code": "Mlym",
                    "dir": "ltr",
                    "name": "Malayalam",
                    "nativeName": "മലയാളം",
                    "toScripts": [
                        {
                            "code": "Latn",
                            "dir": "ltr",
                            "name": "Latin",
                            "nativeName": "ലാറ്റിൻ"
                        }
                    ]
                },
                {
                    "code": "Latn",
                    "dir": "ltr",
                    "name": "Latin",
                    "nativeName": "ലാറ്റിൻ",
                    "toScripts": [
                        {
                            "code": "Mlym",
                            "dir": "ltr",
                            "name": "Malayalam",
                            "nativeName": "മലയാളം"
                        }
                    ]
                }
            ]
        },
        "mn-Cyrl": {
            "name": "Mongolian (Cyrillic)",
            "nativeName": "Монгол",
            "scripts": [
                {
                    "code": "Cyrl",
                    "dir": "ltr",
                    "name": "Cyrillic",
                    "nativeName": "Cyrillic",
                    "toScripts": [
                        {
                            "code": "Latn",
                            "dir": "ltr",
                            "name": "Latin",
                            "nativeName": "Latin"
                        },
                        {
                            "code": "Mong",
                            "dir": "ltr",
                            "name": "Mongolian",
                            "nativeName": "Mongolian"
                        }
                    ]
                }
            ]
        },
        "mni": {
            "name": "Manipuri",
            "nativeName": "ꯃꯩꯇꯩꯂꯣꯟ",
            "scripts": [
                {
                    "code": "Mtei",
                    "dir": "ltr",
                    "name": "Meetei Mayek",
                    "nativeName": "Meetei Mayek",
                    "toScripts": [
                        {
                            "code": "Latn",
                            "dir": "ltr",
                            "name": "Latin",
                            "nativeName": "Latin"
                        }
                    ]
                },
                {
                    "code": "Latn",
                    "dir": "ltr",
                    "name": "Latin",
                    "nativeName": "Latin",
                    "toScripts": [
                        {
                            "code": "Mtei",
                            "dir": "ltr",
                            "name": "Meetei Mayek",
                            "nativeName": "Meetei Mayek"
                        }
                    ]
                }
            ]
        },
        "mr": {
            "name": "Marathi",
            "nativeName": "मराठी",
            "scripts": [
                {
                    "code": "Deva",
                    "dir": "ltr",
                    "name": "Devanagari",
                    "nativeName": "देवनागरी",
                    "toScripts": [
                        {
                            "code": "Latn",
                            "dir": "ltr",
                            "name": "Latin",
                            "nativeName": "लॅटिन"
                        }
                    ]
                },
                {
                    "code": "Latn",
                    "dir": "ltr",
                    "name": "Latin",
                    "nativeName": "लॅटिन",
                    "toScripts": [
                        {
                            "code": "Deva",
                            "dir": "ltr",
                            "name": "Devanagari",
                            "nativeName": "देवनागरी"
                        }
                    ]
                }
            ]
        },
        "ne": {
            "name": "Nepali",
            "nativeName": "नेपाली",
            "scripts": [
                {
                    "code": "Deva",
                    "dir": "ltr",
                    "name": "Devanagari",
                    "nativeName": "देवानागरी",
                    "toScripts": [
                        {
                            "code": "Latn",
                            "dir": "ltr",
                            "name": "Latin",
                            "nativeName": "ल्याटिन"
                        }
                    ]
                },
                {
                    "code": "Latn",
                    "dir": "ltr",
                    "name": "Latin",
                    "nativeName": "ल्याटिन",
                    "toScripts": [
                        {
                            "code": "Deva",
                            "dir": "ltr",
                            "name": "Devanagari",
                            "nativeName": "देवानागरी"
                        }
                    ]
                }
            ]
        },
        "or": {
            "name": "Odia",
            "nativeName": "ଓଡ଼ିଆ",
            "scripts": [
                {
                    "code": "Orya",
                    "dir": "ltr",
                    "name": "Odia",
                    "nativeName": "ଓଡ଼ିଆ",
                    "toScripts": [
                        {
                            "code": "Latn",
                            "dir": "ltr",
                            "name": "Latin",
                            "nativeName": "ଲାଟିନ୍"
                        }
                    ]
                },
                {
                    "code": "Latn",
                    "dir": "ltr",
                    "name": "Latin",
                    "nativeName": "ଲାଟିନ୍",
                    "toScripts": [
                        {
                            "code": "Orya",
                            "dir": "ltr",
                            "name": "Odia",
                            "nativeName": "ଓଡ଼ିଆ"
                        }
                    ]
                }
            ]
        },
        "pa": {
            "name": "Punjabi",
            "nativeName": "ਪੰਜਾਬੀ",
            "scripts": [
                {
                    "code": "Guru",
                    "dir": "ltr",
                    "name": "Gurmukhi",
                    "nativeName": "ਗੁਰਮੁਖੀ",
                    "toScripts": [
                        {
                            "code": "Latn",
                            "dir": "ltr",
                            "name": "Latin",
                            "nativeName": "ਲਾਤੀਨੀ"
                        }
                    ]
                },
                {
                    "code": "Latn",
                    "dir": "ltr",
                    "name": "Latin",
                    "nativeName": "ਲਾਤੀਨੀ",
                    "toScripts": [
                        {
                            "code": "Guru",
                            "dir": "ltr",
                            "name": "Gurmukhi",
                            "nativeName": "ਗੁਰਮੁਖੀ"
                        }
                    ]
                }
            ]
        },
        "ru": {
            "name": "Russian",
            "nativeName": "Русский",
            "scripts": [
                {
                    "code": "Cyrl",
                    "dir": "ltr",
                    "name": "Cyrillic",
                    "nativeName": "кириллица",
                    "toScripts": [
                        {
                            "code": "Latn",
                            "dir": "ltr",
                            "name": "Latin",
                            "nativeName": "латиница"
                        }
                    ]
                },
                {
                    "code": "Latn",
                    "dir": "ltr",
                    "name": "Latin",
                    "nativeName": "латиница",
                    "toScripts": [
                        {
                            "code": "Cyrl",
                            "dir": "ltr",
                            "name": "Cyrillic",
                            "nativeName": "кириллица"
                        }
                    ]
                }
            ]
        },
        "sa": {
            "name": "Sanskrit",
            "nativeName": "संस्कृत",
            "scripts": [
                {
                    "code": "Deva",
                    "dir": "ltr",
                    "name": "Devanagari",
                    "nativeName": "Devanagari",
                    "toScripts": [
                        {
                            "code": "Latn",
                            "dir": "ltr",
                            "name": "Latin",
                            "nativeName": "Latin"
                        }
                    ]
                },
                {
                    "code": "Latn",
                    "dir": "ltr",
                    "name": "Latin",
                    "nativeName": "Latin",
                    "toScripts": [
                        {
                            "code": "Deva",
                            "dir": "ltr",
                            "name": "Devanagari",
                            "nativeName": "Devanagari"
                        }
                    ]
                }
            ]
        },
        "sd": {
            "name": "Sindhi",
            "nativeName": "سنڌي",
            "scripts": [
                {
                    "code": "Arab",
                    "dir": "rtl",
                    "name": "Arabic",
                    "nativeName": "عربي",
                    "toScripts": [
                        {
                            "code": "Latn",
                            "dir": "ltr",
                            "name": "Latin",
                            "nativeName": "لاطيني"
                        }
                    ]
                },
                {
                    "code": "Latn",
                    "dir": "ltr",
                    "name": "Latin",
                    "nativeName": "لاطيني",
                    "toScripts": [
                        {
                            "code": "Arab",
                            "dir": "rtl",
                            "name": "Arabic",
                            "nativeName": "عربي"
                        }
                    ]
                }
            ]
        },
        "si": {
            "name": "Sinhala",
            "nativeName": "සිංහල",
            "scripts": [
                {
                    "code": "Sinh",
                    "dir": "ltr",
                    "name": "Sinhala",
                    "nativeName": "සිංහල",
                    "toScripts": [
                        {
                            "code": "Latn",
                            "dir": "ltr",
                            "name": "Latin",
                            "nativeName": "ලතින්"
                        }
                    ]
                },
                {
                    "code": "Latn",
                    "dir": "ltr",
                    "name": "Latin",
                    "nativeName": "ලතින්",
                    "toScripts": [
                        {
                            "code": "Sinh",
                            "dir": "ltr",
                            "name": "Sinhala",
                            "nativeName": "සිංහල"
                        }
                    ]
                }
            ]
        },
        "sr-Cyrl": {
            "name": "Serbian (Cyrillic)",
            "nativeName": "Српски (ћирилица)",
            "scripts": [
                {
                    "code": "Cyrl",
                    "dir": "ltr",
                    "name": "Cyrillic",
                    "nativeName": "ћирилица",
                    "toScripts": [
                        {
                            "code": "Latn",
                            "dir": "ltr",
                            "name": "Latin",
                            "nativeName": "латиница"
                        }
                    ]
                }
            ]
        },
        "sr-Latn": {
            "name": "Serbian (Latin)",
            "nativeName": "Srpski (latinica)",
            "scripts": [
                {
                    "code": "Latn",
                    "dir": "ltr",
                    "name": "Latin",
                    "nativeName": "latinica",
                    "toScripts": [
                        {
                            "code": "Cyrl",
                            "dir": "ltr",
                            "name": "Cyrillic",
                            "nativeName": "ćirilica"
                        }
                    ]
                }
            ]
        },
        "ta": {
            "name": "Tamil",
            "nativeName": "தமிழ்",
            "scripts": [
                {
                    "code": "Taml",
                    "dir": "ltr",
                    "name": "Tamil",
                    "nativeName": "தமிழ்",
                    "toScripts": [
                        {
                            "code": "Latn",
                            "dir": "ltr",
                            "name": "Latin",
                            "nativeName": "லத்தின்"
                        }
                    ]
                },
                {
                    "code": "Latn",
                    "dir": "ltr",
                    "name": "Latin",
                    "nativeName": "லத்தின்",
                    "toScripts": [
                        {
                            "code": "Taml",
                            "dir": "ltr",
                            "name": "Tamil",
                            "nativeName": "தமிழ்"
                        }
                    ]
                }
            ]
        },
        "te": {
            "name": "Telugu",
            "nativeName": "తెలుగు",
            "scripts": [
                {
                    "code": "Telu",
                    "dir": "ltr",
                    "name": "Telugu",
                    "nativeName": "తెలుగు",
                    "toScripts": [
                        {
                            "code": "Latn",
                            "dir": "ltr",
                            "name": "Latin",
                            "nativeName": "లాటిన్"
                        }
                    ]
                },
                {
                    "code": "Latn",
                    "dir": "ltr",
                    "name": "Latin",
                    "nativeName": "లాటిన్",
                    "toScripts": [
                        {
                            "code": "Telu",
                            "dir": "ltr",
                            "name": "Telugu",
                            "nativeName": "తెలుగు"
                        }
                    ]
                }
            ]
        },
        "tg": {
            "name": "Tajik",
            "nativeName": "Тоҷикӣ",
            "scripts": [
                {
                    "code": "Cyrl",
                    "dir": "ltr",
                    "name": "Cyrillic",
                    "nativeName": "Кириллӣ",
                    "toScripts": [
                        {
                            "code": "Latn",
                            "dir": "ltr",
                            "name": "Latin",
                            "nativeName": "Лотинӣ"
                        }
                    ]
                },
                {
                    "code": "Latn",
                    "dir": "ltr",
                    "name": "Latin",
                    "nativeName": "Лотинӣ",
                    "toScripts": [
                        {
                            "code": "Cyrl",
                            "dir": "ltr",
                            "name": "Cyrillic",
                            "nativeName": "Кириллӣ"
                        }
                    ]
                }
            ]
        },
        "th": {
            "name": "Thai",
            "nativeName": "ไทย",
            "scripts": [
                {
                    "code": "Thai",
                    "dir": "ltr",
                    "name": "Thai",
                    "nativeName": "ไทย",
                    "toScripts": [
                        {
                            "code": "Latn",
                            "dir": "ltr",
                            "name": "Latin",
                            "nativeName": "ละติน"
                        }
                    ]
                }
            ]
        },
        "tt": {
            "name": "Tatar",
            "nativeName": "Татар",
            "scripts": [
                {
                    "code": "Cyrl",
                    "dir": "ltr",
                    "name": "Cyrillic",
                    "nativeName": "кирилл",
                    "toScripts": [
                        {
                            "code": "Latn",
                            "dir": "ltr",
                            "name": "Latin",
                            "nativeName": "латин"
                        }
                    ]
                },
                {
                    "code": "Latn",
                    "dir": "ltr",
                    "name": "Latin",
                    "nativeName": "латин",
                    "toScripts": [
                        {
                            "code": "Cyrl",
                            "dir": "ltr",
                            "name": "Cyrillic",
                            "nativeName": "кирилл"
                        }
                    ]
                }
            ]
        },
        "uk": {
            "name": "Ukrainian",
            "nativeName": "Українська",
            "scripts": [
                {
                    "code": "Cyrl",
                    "dir": "ltr",
                    "name": "Cyrillic",
                    "nativeName": "кирилиця",
                    "toScripts": [
                        {
                            "code": "Latn",
                            "dir": "ltr",
                            "name": "Latin",
                            "nativeName": "латиниця"
                        }
                    ]
                },
                {
                    "code": "Latn",
                    "dir": "ltr",
                    "name": "Latin",
                    "nativeName": "латиниця",
                    "toScripts": [
                        {
                            "code": "Cyrl",
                            "dir": "ltr",
                            "name": "Cyrillic",
                            "nativeName": "кирилиця"
                        }
                    ]
                }
            ]
        },
        "ur": {
            "name": "Urdu",
            "nativeName": "اردو",
            "scripts": [
                {
                    "code": "Arab",
                    "dir": "rtl",
                    "name": "Arabic",
                    "nativeName": "عربی",
                    "toScripts": [
                        {
                            "code": "Latn",
                            "dir": "ltr",
                            "name": "Latin",
                            "nativeName": "لاطینی"
                        }
                    ]
                },
                {
                    "code": "Latn",
                    "dir": "ltr",
                    "name": "Latin",
                    "nativeName": "لاطینی",
                    "toScripts": [
                        {
                            "code": "Arab",
                            "dir": "rtl",
                            "name": "Arabic",
                            "nativeName": "عربی"
                        }
                    ]
                }
            ]
        },
        "zh-Hans": {
            "name": "Chinese Simplified",
            "nativeName": "中文 (简体)",
            "scripts": [
                {
                    "code": "Hans",
                    "dir": "ltr",
                    "name": "Simplified",
                    "nativeName": "简体",
                    "toScripts": [
                        {
                            "code": "Hant",
                            "dir": "ltr",
                            "name": "Hat",
                            "nativeName": "繁体"
                        },
                        {
                            "code": "Latn",
                            "dir": "ltr",
                            "name": "Latin",
                            "nativeName": "拉丁文"
                        }
                    ]
                },
                {
                    "code": "Latn",
                    "dir": "ltr",
                    "name": "Latin",
                    "nativeName": "拉丁文",
                    "toScripts": [
                        {
                            "code": "Hans",
                            "dir": "ltr",
                            "name": "Han",
                            "nativeName": "简体"
                        },
                        {
                            "code": "Hant",
                            "dir": "ltr",
                            "name": "Hat",
                            "nativeName": "繁体"
                        }
                    ]
                }
            ]
        },
        "zh-Hant": {
            "name": "Chinese Traditional",
            "nativeName": "繁體中文 (繁體)",
            "scripts": [
                {
                    "code": "Hant",
                    "dir": "ltr",
                    "name": "Traditional",
                    "nativeName": "繁體",
                    "toScripts": [
                        {
                            "code": "Hans",
                            "dir": "ltr",
                            "name": "Han",
                            "nativeName": "簡體"
                        },
                        {
                            "code": "Latn",
                            "dir": "ltr",
                            "name": "Latin",
                            "nativeName": "拉丁文"
                        }
                    ]
                },
                {
                    "code": "Latn",
                    "dir": "ltr",
                    "name": "Latin",
                    "nativeName": "拉丁文",
                    "toScripts": [
                        {
                            "code": "Hans",
                            "dir": "ltr",
                            "name": "Han",
                            "nativeName": "簡體"
                        },
                        {
                            "code": "Hant",
                            "dir": "ltr",
                            "name": "Hat",
                            "nativeName": "繁體"
                        }
                    ]
                }
            ]
        }
    }
}
{"cmd": "POST /translate"}, 

[
    {
        "detectedLanguage": {
            "language": "en",
            "score": 1.0
        },
        "translations": [
            {
                "text": "Aku akan mati setiap hari menunggumu. Sayang, jangan takut, aku telah mencintaimu selama seribu tahun. Aku akan mencintaimu untuk seribu lagi.",
                "to": "id"
            }
        ]
    }
]
{"cmd": "POST /transliterate"}, 

[
    {
        "script": "Latn",
        "text": "Kon'nichiwa​"
    }
]
{"cmd": "POST /detect"}, 

[
    {
        "isTranslationSupported": true,
        "isTransliterationSupported": false,
        "language": "fr",
        "score": 1.0
    }
]
{"cmd": "POST /breakSentence"}, 

[
    {
        "detectedLanguage": {
            "language": "en",
            "score": 1.0
        },
        "sentLen": [
            7,
            13,
            9
        ]
    }
]
{"cmd": "POST /dictionary/lookup"}, 

[
    {
        "displaySource": "example",
        "normalizedSource": "example",
        "translations": [
            {
                "backTranslations": [
                    {
                        "displayText": "example",
                        "frequencyCount": 73473,
                        "normalizedText": "example",
                        "numExamples": 15
                    },
                    {
                        "displayText": "instance",
                        "frequencyCount": 8074,
                        "normalizedText": "instance",
                        "numExamples": 15
                    },
                    {
                        "displayText": "such as",
                        "frequencyCount": 2936,
                        "normalizedText": "such as",
                        "numExamples": 5
                    },
                    {
                        "displayText": "sample",
                        "frequencyCount": 1510,
                        "normalizedText": "sample",
                        "numExamples": 15
                    }
                ],
                "confidence": 1.0,
                "displayTarget": "ejemplo",
                "normalizedTarget": "ejemplo",
                "posTag": "NOUN",
                "prefixWord": ""
            }
        ]
    }
]
{"cmd": "POST /dictionary/examples"}, 

[
    {
        "examples": [
            {
                "sourcePrefix": "I mean, for a guy who could ",
                "sourceSuffix": ".",
                "sourceTerm": "fly",
                "targetPrefix": "Quiero decir, para un tipo que podía ",
                "targetSuffix": ".",
                "targetTerm": "volar"
            },
            {
                "sourcePrefix": "Now it's time to make you ",
                "sourceSuffix": ".",
                "sourceTerm": "fly",
                "targetPrefix": "Ahora es hora de que te haga ",
                "targetSuffix": ".",
                "targetTerm": "volar"
            },
            {
                "sourcePrefix": "One happy thought will make you ",
                "sourceSuffix": ".",
                "sourceTerm": "fly",
                "targetPrefix": "Uno solo te hará ",
                "targetSuffix": ".",
                "targetTerm": "volar"
            },
            {
                "sourcePrefix": "They need machines to ",
                "sourceSuffix": ".",
                "sourceTerm": "fly",
                "targetPrefix": "Necesitan máquinas para ",
                "targetSuffix": ".",
                "targetTerm": "volar"
            },
            {
                "sourcePrefix": "That should really ",
                "sourceSuffix": ".",
                "sourceTerm": "fly",
                "targetPrefix": "Eso realmente debe ",
                "targetSuffix": ".",
                "targetTerm": "volar"
            },
            {
                "sourcePrefix": "It sure takes longer when you can't ",
                "sourceSuffix": ".",
                "sourceTerm": "fly",
                "targetPrefix": "Lleva más tiempo cuando no puedes ",
                "targetSuffix": ".",
                "targetTerm": "volar"
            },
            {
                "sourcePrefix": "I have to ",
                "sourceSuffix": " home in the morning.",
                "sourceTerm": "fly",
                "targetPrefix": "Tengo que ",
                "targetSuffix": " a casa por la mañana.",
                "targetTerm": "volar"
            },
            {
                "sourcePrefix": "You taught me to ",
                "sourceSuffix": ".",
                "sourceTerm": "fly",
                "targetPrefix": "Me enseñaste a ",
                "targetSuffix": ".",
                "targetTerm": "volar"
            },
            {
                "sourcePrefix": "I think you should ",
                "sourceSuffix": " with the window closed.",
                "sourceTerm": "fly",
                "targetPrefix": "Creo que debemos ",
                "targetSuffix": " con la ventana cerrada.",
                "targetTerm": "volar"
            },
            {
                "sourcePrefix": "They look like they could ",
                "sourceSuffix": ".",
                "sourceTerm": "fly",
                "targetPrefix": "Parece que pudieran ",
                "targetSuffix": ".",
                "targetTerm": "volar"
            },
            {
                "sourcePrefix": "But you can ",
                "sourceSuffix": ", for instance?",
                "sourceTerm": "fly",
                "targetPrefix": "Que puedes ",
                "targetSuffix": ", por ejemplo.",
                "targetTerm": "volar"
            },
            {
                "sourcePrefix": "At least until her kids can be able to ",
                "sourceSuffix": ".",
                "sourceTerm": "fly",
                "targetPrefix": "Al menos hasta que sus hijos sean capaces de ",
                "targetSuffix": ".",
                "targetTerm": "volar"
            },
            {
                "sourcePrefix": "I thought you could ",
                "sourceSuffix": ".",
                "sourceTerm": "fly",
                "targetPrefix": "Pensé que podías ",
                "targetSuffix": ".",
                "targetTerm": "volar"
            },
            {
                "sourcePrefix": "I was wondering what it would be like to ",
                "sourceSuffix": ".",
                "sourceTerm": "fly",
                "targetPrefix": "Me preguntaba cómo sería ",
                "targetSuffix": ".",
                "targetTerm": "volar"
            },
            {
                "sourcePrefix": "But nobody else can ",
                "sourceSuffix": ".",
                "sourceTerm": "fly",
                "targetPrefix": "Pero nadie puede ",
                "targetSuffix": ".",
                "targetTerm": "volar"
            }
        ],
        "normalizedSource": "fly",
        "normalizedTarget": "volar"
    }
]
