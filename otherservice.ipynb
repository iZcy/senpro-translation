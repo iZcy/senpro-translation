{
 "cells": [
  {
   "cell_type": "code",
   "execution_count": 16,
   "metadata": {},
   "outputs": [
    {
     "name": "stdout",
     "output_type": "stream",
     "text": [
      "Requirement already satisfied: requests in c:\\users\\yitzhak\\desktop\\senpro\\w2\\lect7\\senpro\\lib\\site-packages (2.32.3)\n",
      "Requirement already satisfied: charset-normalizer<4,>=2 in c:\\users\\yitzhak\\desktop\\senpro\\w2\\lect7\\senpro\\lib\\site-packages (from requests) (3.4.1)\n",
      "Requirement already satisfied: idna<4,>=2.5 in c:\\users\\yitzhak\\desktop\\senpro\\w2\\lect7\\senpro\\lib\\site-packages (from requests) (3.10)\n",
      "Requirement already satisfied: urllib3<3,>=1.21.1 in c:\\users\\yitzhak\\desktop\\senpro\\w2\\lect7\\senpro\\lib\\site-packages (from requests) (2.3.0)\n",
      "Requirement already satisfied: certifi>=2017.4.17 in c:\\users\\yitzhak\\desktop\\senpro\\w2\\lect7\\senpro\\lib\\site-packages (from requests) (2025.1.31)\n"
     ]
    },
    {
     "name": "stderr",
     "output_type": "stream",
     "text": [
      "\n",
      "[notice] A new release of pip is available: 24.3.1 -> 25.0.1\n",
      "[notice] To update, run: python.exe -m pip install --upgrade pip\n"
     ]
    },
    {
     "name": "stdout",
     "output_type": "stream",
     "text": [
      "Requirement already satisfied: azure-cognitiveservices-speech in c:\\users\\yitzhak\\desktop\\senpro\\w2\\lect7\\senpro\\lib\\site-packages (1.43.0)\n"
     ]
    },
    {
     "name": "stderr",
     "output_type": "stream",
     "text": [
      "\n",
      "[notice] A new release of pip is available: 24.3.1 -> 25.0.1\n",
      "[notice] To update, run: python.exe -m pip install --upgrade pip\n"
     ]
    }
   ],
   "source": [
    "!pip install requests\n",
    "!pip install azure-cognitiveservices-speech\n"
   ]
  },
  {
   "cell_type": "code",
   "execution_count": 17,
   "metadata": {},
   "outputs": [],
   "source": [
    "# Replace with your API key and region\n",
    "speech_key = \"FYQLcVr1HAyJaBHukF8ITVPx75yoZYUZbdTqoauB7K8TeFBELgQoJQQJ99BCACqBBLyXJ3w3AAAYACOGxDeu\"\n",
    "service_region = \"southeastasia\""
   ]
  },
  {
   "cell_type": "code",
   "execution_count": 18,
   "metadata": {},
   "outputs": [],
   "source": [
    "# import azure.cognitiveservices.speech as speechsdk\n",
    "\n",
    "# # Initialize speech recognizer\n",
    "# speech_config = speechsdk.SpeechConfig(subscription=speech_key, region=service_region)\n",
    "# speech_recognizer = speechsdk.SpeechRecognizer(speech_config=speech_config)\n",
    "\n",
    "# print(\"Say something...\")\n",
    "# result = speech_recognizer.recognize_once()\n",
    "\n",
    "# if result.reason == speechsdk.ResultReason.RecognizedSpeech:\n",
    "#     print(\"Recognized: {}\".format(result.text))\n",
    "# elif result.reason == speechsdk.ResultReason.NoMatch:\n",
    "#     print(\"No speech recognized\")\n",
    "# elif result.reason == speechsdk.ResultReason.Canceled:\n",
    "#     print(\"Speech recognition canceled: {}\".format(result.cancellation_details.reason))\n"
   ]
  },
  {
   "cell_type": "code",
   "execution_count": 19,
   "metadata": {},
   "outputs": [
    {
     "name": "stdout",
     "output_type": "stream",
     "text": [
      "Audio file saved as 'output.wav'\n"
     ]
    }
   ],
   "source": [
    "import azure.cognitiveservices.speech as speechsdk\n",
    "\n",
    "# Initialize speech synthesizer\n",
    "speech_config = speechsdk.SpeechConfig(subscription=speech_key, region=service_region)\n",
    "\n",
    "# Set the output format to WAV\n",
    "speech_config.set_speech_synthesis_output_format(speechsdk.SpeechSynthesisOutputFormat.Riff16Khz16BitMonoPcm)\n",
    "\n",
    "synthesizer = speechsdk.SpeechSynthesizer(speech_config=speech_config)\n",
    "\n",
    "# Synthesize speech from text\n",
    "result = synthesizer.speak_text_async(\"Hello, this is a test.\").get()\n",
    "\n",
    "if result.reason == speechsdk.ResultReason.SynthesizingAudioCompleted:\n",
    "    # Save to a WAV file\n",
    "    with open(\"output.wav\", \"wb\") as f:\n",
    "        f.write(result.audio_data)\n",
    "    print(\"Audio file saved as 'output.wav'\")\n",
    "else:\n",
    "    print(\"Speech synthesis failed:\", result.reason)\n"
   ]
  }
 ],
 "metadata": {
  "kernelspec": {
   "display_name": "senpro",
   "language": "python",
   "name": "python3"
  },
  "language_info": {
   "codemirror_mode": {
    "name": "ipython",
    "version": 3
   },
   "file_extension": ".py",
   "mimetype": "text/x-python",
   "name": "python",
   "nbconvert_exporter": "python",
   "pygments_lexer": "ipython3",
   "version": "3.13.2"
  }
 },
 "nbformat": 4,
 "nbformat_minor": 2
}
